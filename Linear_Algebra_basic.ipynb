{
 "cells": [
  {
   "cell_type": "code",
   "execution_count": 3,
   "id": "41c61a02",
   "metadata": {},
   "outputs": [],
   "source": [
    "from typing import List\n",
    "Vector = List[float]"
   ]
  },
  {
   "cell_type": "code",
   "execution_count": 9,
   "id": "093482fd",
   "metadata": {},
   "outputs": [],
   "source": [
    "def add_vector(v:Vector, w:Vector) -> Vector:\n",
    "    #adds v and w\n",
    "    assert len(v) == len(w), \"Vectors must be the same size\"\n",
    "    return [v_i + w_i for v_i, w_i in zip(v,w)]"
   ]
  },
  {
   "cell_type": "code",
   "execution_count": 10,
   "id": "82c46c18",
   "metadata": {},
   "outputs": [],
   "source": [
    "assert add_vector([1,2,3], [4,5,6]) == [5,7,9]"
   ]
  },
  {
   "cell_type": "code",
   "execution_count": 11,
   "id": "ff8d353c",
   "metadata": {},
   "outputs": [],
   "source": [
    "def sub_vector(v:Vector, w:Vector) -> Vector:\n",
    "    #adds v and w\n",
    "    assert len(v) == len(w), \"Vectors must be the same size\"\n",
    "    return [v_i - w_i for v_i, w_i in zip(v,w)]"
   ]
  },
  {
   "cell_type": "code",
   "execution_count": 14,
   "id": "43dc60f9",
   "metadata": {},
   "outputs": [],
   "source": [
    "assert sub_vector([5,7,9], [4,5,6]) == [1,2,3]"
   ]
  },
  {
   "cell_type": "code",
   "execution_count": 21,
   "id": "8ec24d19",
   "metadata": {},
   "outputs": [],
   "source": [
    "def vectorSum(vectors:List[Vector]) -> Vector:\n",
    "    #check that vector is non empty\n",
    "    assert vectors, \"no vectors provided\"\n",
    "    \n",
    "    # check the vectors are all the same size\n",
    "    num_elements = len(vectors[0])\n",
    "    assert all(len(v) == num_elements for v in vectors),\"different sizes\"\n",
    "    \n",
    "    # the i-th element of the result is the sum of every vector[i]\n",
    "    return [sum(vector[i] for vector in vectors) for i in range(num_elements)]"
   ]
  },
  {
   "cell_type": "code",
   "execution_count": 22,
   "id": "c79c9657",
   "metadata": {},
   "outputs": [],
   "source": [
    "assert vectorSum([[1,2],[3,4],[5,6],[7,8]]) == [16, 20]"
   ]
  },
  {
   "cell_type": "code",
   "execution_count": 24,
   "id": "97be1ad8",
   "metadata": {},
   "outputs": [],
   "source": [
    "def scalar_multiple(c: float, v: Vector)-> Vector:\n",
    "    return [c*v_i for v_i in v]"
   ]
  },
  {
   "cell_type": "code",
   "execution_count": 25,
   "id": "c29c6ac7",
   "metadata": {},
   "outputs": [],
   "source": [
    "assert scalar_multiple(2,[1,2,3]) == [2,4,6]"
   ]
  },
  {
   "cell_type": "code",
   "execution_count": 31,
   "id": "80413567",
   "metadata": {},
   "outputs": [],
   "source": [
    "def vector_mean(vectors:List[Vector]) -> Vector:\n",
    "    # computes the element wise average\n",
    "    n = len(vectors)\n",
    "    return scalar_multiple(1/n, vectorSum(vectors))"
   ]
  },
  {
   "cell_type": "code",
   "execution_count": 32,
   "id": "166f6860",
   "metadata": {},
   "outputs": [
    {
     "name": "stdout",
     "output_type": "stream",
     "text": [
      "[4.0, 5.0]\n"
     ]
    }
   ],
   "source": [
    "print(vector_mean([[1,2],[3,4],[5,6],[7,8]]))"
   ]
  },
  {
   "cell_type": "code",
   "execution_count": 33,
   "id": "0b92db10",
   "metadata": {},
   "outputs": [],
   "source": [
    "def dot(v:Vector, w:Vector)-> float:\n",
    "    assert len(v) == len(w), \"vectores must be the same size\"\n",
    "    return sum(v_i*w_i for v_i, w_i in zip(v,w))"
   ]
  },
  {
   "cell_type": "code",
   "execution_count": 34,
   "id": "4cc406d7",
   "metadata": {},
   "outputs": [],
   "source": [
    "assert dot([1,2,3],[4,5,6]) == 32"
   ]
  },
  {
   "cell_type": "code",
   "execution_count": 35,
   "id": "4980d79b",
   "metadata": {},
   "outputs": [],
   "source": [
    "def sum_of_squres(v:Vector) -> float:\n",
    "    return dot(v,v)"
   ]
  },
  {
   "cell_type": "code",
   "execution_count": 36,
   "id": "277e790f",
   "metadata": {},
   "outputs": [],
   "source": [
    "assert sum_of_squres([1,2,3]) == 14"
   ]
  },
  {
   "cell_type": "code",
   "execution_count": 42,
   "id": "764f21e9",
   "metadata": {},
   "outputs": [],
   "source": [
    "import math\n",
    "def magnitude(v:Vector) -> float:\n",
    "    return math.sqrt(sum_of_squres(v))"
   ]
  },
  {
   "cell_type": "code",
   "execution_count": 43,
   "id": "6108c471",
   "metadata": {},
   "outputs": [],
   "source": [
    "assert magnitude([3,4]) == 5"
   ]
  },
  {
   "cell_type": "code",
   "execution_count": 45,
   "id": "8ced7910",
   "metadata": {},
   "outputs": [],
   "source": [
    "def squared_dist(v:Vector, w:Vector) -> float:\n",
    "    \n",
    "    return sum_of_squres(sub_vector(v,w))"
   ]
  },
  {
   "cell_type": "code",
   "execution_count": 46,
   "id": "b6d1b774",
   "metadata": {},
   "outputs": [],
   "source": [
    "def distance(v:Vector, w:Vector) -> float:\n",
    "    return math.sqrt(squared_dist(v,w))"
   ]
  },
  {
   "cell_type": "code",
   "execution_count": null,
   "id": "db31481a",
   "metadata": {},
   "outputs": [],
   "source": []
  }
 ],
 "metadata": {
  "kernelspec": {
   "display_name": "Python 3",
   "language": "python",
   "name": "python3"
  },
  "language_info": {
   "codemirror_mode": {
    "name": "ipython",
    "version": 3
   },
   "file_extension": ".py",
   "mimetype": "text/x-python",
   "name": "python",
   "nbconvert_exporter": "python",
   "pygments_lexer": "ipython3",
   "version": "3.8.8"
  }
 },
 "nbformat": 4,
 "nbformat_minor": 5
}
