{
 "cells": [
  {
   "cell_type": "code",
   "execution_count": 1,
   "id": "cc8576f1",
   "metadata": {},
   "outputs": [],
   "source": [
    "import numpy as np"
   ]
  },
  {
   "cell_type": "code",
   "execution_count": 5,
   "id": "279cbaf4",
   "metadata": {},
   "outputs": [
    {
     "data": {
      "text/plain": [
       "numpy.ndarray"
      ]
     },
     "execution_count": 5,
     "metadata": {},
     "output_type": "execute_result"
    }
   ],
   "source": [
    "nums = [ 12,12, 13]\n",
    "num_array = np.array(nums) # converts a list into an numpy ndarray\n",
    "type(num_array)"
   ]
  },
  {
   "cell_type": "code",
   "execution_count": 6,
   "id": "716d105f",
   "metadata": {},
   "outputs": [],
   "source": [
    "row1 =[1,2,3]\n",
    "row2= [4,5,6]\n",
    "row3 = [7,8,9]"
   ]
  },
  {
   "cell_type": "code",
   "execution_count": 8,
   "id": "e5085736",
   "metadata": {},
   "outputs": [],
   "source": [
    "row = np.array([row1,row2,row3])"
   ]
  },
  {
   "cell_type": "code",
   "execution_count": 9,
   "id": "430a39d6",
   "metadata": {},
   "outputs": [
    {
     "data": {
      "text/plain": [
       "array([[1, 2, 3],\n",
       "       [4, 5, 6],\n",
       "       [7, 8, 9]])"
      ]
     },
     "execution_count": 9,
     "metadata": {},
     "output_type": "execute_result"
    }
   ],
   "source": [
    "row # returns 3X3 array (2d array)"
   ]
  },
  {
   "cell_type": "code",
   "execution_count": 11,
   "id": "aa06c21a",
   "metadata": {},
   "outputs": [
    {
     "data": {
      "text/plain": [
       "array([ 5,  6,  7,  8,  9, 10])"
      ]
     },
     "execution_count": 11,
     "metadata": {},
     "output_type": "execute_result"
    }
   ],
   "source": [
    "nums_arr =np.arange(5,11) # it creates a range of integer array from 5 inclusive and 11 not inclusive 5 to 10 \n",
    "nums_arr"
   ]
  },
  {
   "cell_type": "code",
   "execution_count": 12,
   "id": "858505ee",
   "metadata": {},
   "outputs": [
    {
     "data": {
      "text/plain": [
       "array([5, 7, 9])"
      ]
     },
     "execution_count": 12,
     "metadata": {},
     "output_type": "execute_result"
    }
   ],
   "source": [
    "nums_arr =np.arange(5,11, 2) # 3rd argument for step size\n",
    "nums_arr"
   ]
  },
  {
   "cell_type": "code",
   "execution_count": 14,
   "id": "5b86ef01",
   "metadata": {},
   "outputs": [
    {
     "data": {
      "text/plain": [
       "(3, 3)"
      ]
     },
     "execution_count": 14,
     "metadata": {},
     "output_type": "execute_result"
    }
   ],
   "source": [
    "row.shape # row array has 3 ros and 3 coln"
   ]
  },
  {
   "cell_type": "code",
   "execution_count": 15,
   "id": "80898844",
   "metadata": {},
   "outputs": [
    {
     "data": {
      "text/plain": [
       "9"
      ]
     },
     "execution_count": 15,
     "metadata": {},
     "output_type": "execute_result"
    }
   ],
   "source": [
    "row.size # returns number of elements in row"
   ]
  },
  {
   "cell_type": "code",
   "execution_count": 16,
   "id": "544fb7f7",
   "metadata": {},
   "outputs": [
    {
     "data": {
      "text/plain": [
       "3"
      ]
     },
     "execution_count": 16,
     "metadata": {},
     "output_type": "execute_result"
    }
   ],
   "source": [
    "nums_arr.size"
   ]
  },
  {
   "cell_type": "markdown",
   "id": "70a57b88",
   "metadata": {},
   "source": [
    "# one dim array indexing and slicing expressions\n",
    "a[m]  = select element at index m, where m is an integer\n",
    "a[-m] = Select the nth element from the end os the list, where n is an int.The last element in the list is adressed         as -1. the second to last element as -2, and so on.\n",
    "a[m:n] = select elements with index starting at m and ending n-1\n",
    "a[:] or a[0:-1] = select all the elements in the array\n",
    "a[:n] = select element starting at 0 and going up n-1\n",
    "a[m:] or a[m:-1] = selecting element starting at m and going up to end of the last element\n",
    "a[m:n:p] = select elemnts with index m through n exclusive, with increment p\n",
    "a[::-1] = select all the elements , in reverse order.\n"
   ]
  },
  {
   "cell_type": "code",
   "execution_count": 17,
   "id": "6f43213e",
   "metadata": {},
   "outputs": [
    {
     "data": {
      "text/plain": [
       "array([1., 1., 1., 1., 1., 1.])"
      ]
     },
     "execution_count": 17,
     "metadata": {},
     "output_type": "execute_result"
    }
   ],
   "source": [
    "ones_array = np.ones(6)\n",
    "ones_array"
   ]
  },
  {
   "cell_type": "code",
   "execution_count": 19,
   "id": "173788c8",
   "metadata": {},
   "outputs": [
    {
     "data": {
      "text/plain": [
       "array([0., 0., 0., 0., 0., 0.])"
      ]
     },
     "execution_count": 19,
     "metadata": {},
     "output_type": "execute_result"
    }
   ],
   "source": [
    "zero = np.zeros(6)\n",
    "zero"
   ]
  },
  {
   "cell_type": "code",
   "execution_count": 21,
   "id": "06578005",
   "metadata": {},
   "outputs": [
    {
     "data": {
      "text/plain": [
       "array([[1., 1., 1., 1.],\n",
       "       [1., 1., 1., 1.],\n",
       "       [1., 1., 1., 1.],\n",
       "       [1., 1., 1., 1.],\n",
       "       [1., 1., 1., 1.],\n",
       "       [1., 1., 1., 1.]])"
      ]
     },
     "execution_count": 21,
     "metadata": {},
     "output_type": "execute_result"
    }
   ],
   "source": [
    "one = np.ones((6,4))\n",
    "one"
   ]
  },
  {
   "cell_type": "code",
   "execution_count": 108,
   "id": "de9a7d5a",
   "metadata": {},
   "outputs": [
    {
     "data": {
      "text/plain": [
       "array([[1., 0., 0., 0.],\n",
       "       [0., 1., 0., 0.],\n",
       "       [0., 0., 1., 0.],\n",
       "       [0., 0., 0., 1.]])"
      ]
     },
     "execution_count": 108,
     "metadata": {},
     "output_type": "execute_result"
    }
   ],
   "source": [
    "# np.identity\n",
    "x = np.identity(4)\n",
    "x"
   ]
  },
  {
   "cell_type": "code",
   "execution_count": 109,
   "id": "f3f69198",
   "metadata": {},
   "outputs": [
    {
     "data": {
      "text/plain": [
       "array([[1., 0., 0., 0.],\n",
       "       [0., 1., 0., 0.],\n",
       "       [0., 0., 1., 0.],\n",
       "       [0., 0., 0., 1.]])"
      ]
     },
     "execution_count": 109,
     "metadata": {},
     "output_type": "execute_result"
    }
   ],
   "source": [
    "# np.eye. You can create identity matris using eye\n",
    "x = np.eye(4)\n",
    "x"
   ]
  },
  {
   "cell_type": "code",
   "execution_count": 110,
   "id": "0744b92d",
   "metadata": {},
   "outputs": [
    {
     "data": {
      "text/plain": [
       "array([[0., 1., 0., 0.],\n",
       "       [0., 0., 1., 0.],\n",
       "       [0., 0., 0., 1.],\n",
       "       [0., 0., 0., 0.]])"
      ]
     },
     "execution_count": 110,
     "metadata": {},
     "output_type": "execute_result"
    }
   ],
   "source": [
    "# you can use eye(0 function passing k value for offsetting the diagonal value)\n",
    "x = np.eye(4, k =1)\n",
    "x"
   ]
  },
  {
   "cell_type": "code",
   "execution_count": 111,
   "id": "a14a6db1",
   "metadata": {},
   "outputs": [
    {
     "data": {
      "text/plain": [
       "array([[0., 0., 0., 0.],\n",
       "       [1., 0., 0., 0.],\n",
       "       [0., 1., 0., 0.],\n",
       "       [0., 0., 1., 0.]])"
      ]
     },
     "execution_count": 111,
     "metadata": {},
     "output_type": "execute_result"
    }
   ],
   "source": [
    "x = np.eye(4, k =-1)\n",
    "x"
   ]
  },
  {
   "cell_type": "code",
   "execution_count": 24,
   "id": "3baa3ca3",
   "metadata": {},
   "outputs": [
    {
     "data": {
      "text/plain": [
       "array([[0.86226039, 0.05401151, 0.19015562, 0.6578188 , 0.92877119],\n",
       "       [0.32587919, 0.8399314 , 0.87375345, 0.33781403, 0.60376012],\n",
       "       [0.24327502, 0.71281465, 0.48723268, 0.37817438, 0.76930185],\n",
       "       [0.04042595, 0.81434758, 0.25523609, 0.32704087, 0.46201973]])"
      ]
     },
     "execution_count": 24,
     "metadata": {},
     "output_type": "execute_result"
    }
   ],
   "source": [
    "# uniform random numbers using random.rand() \n",
    "uniform = np.random.rand(4,5)\n",
    "uniform"
   ]
  },
  {
   "cell_type": "code",
   "execution_count": 26,
   "id": "51778008",
   "metadata": {},
   "outputs": [
    {
     "data": {
      "text/plain": [
       "array([[-1.0441994 ,  0.54776864,  1.29306056,  0.88677425, -0.38503378],\n",
       "       [ 0.34861503,  1.58909323, -0.72143023, -1.65909982, -0.82320931],\n",
       "       [ 0.48624304, -0.85086845,  0.46256849,  0.75390202, -0.42037158],\n",
       "       [ 2.43398476, -0.50792009, -0.26711402, -0.65922699,  0.06831055]])"
      ]
     },
     "execution_count": 26,
     "metadata": {},
     "output_type": "execute_result"
    }
   ],
   "source": [
    "# normal distribution random numbers using random.randn()\n",
    "normal = np.random.randn(4,5)\n",
    "normal"
   ]
  },
  {
   "cell_type": "code",
   "execution_count": 27,
   "id": "e941d4ff",
   "metadata": {},
   "outputs": [
    {
     "data": {
      "text/plain": [
       "array([21, 12, 18])"
      ]
     },
     "execution_count": 27,
     "metadata": {},
     "output_type": "execute_result"
    }
   ],
   "source": [
    "# random.randint() between range and 3rd argument is for number of elements from that range\n",
    "integer = np .random.randint(10, 100, 3)\n",
    "integer"
   ]
  },
  {
   "cell_type": "code",
   "execution_count": 30,
   "id": "44502298",
   "metadata": {},
   "outputs": [
    {
     "data": {
      "text/plain": [
       "array([[0.80439673, 0.19498695, 0.46544866, 0.97706912, 0.98477057,\n",
       "        0.75454574, 0.47119757, 0.96257102],\n",
       "       [0.59772721, 0.76105633, 0.14826267, 0.99452265, 0.27497219,\n",
       "        0.57125895, 0.70620506, 0.77739734],\n",
       "       [0.4416819 , 0.13442559, 0.41497293, 0.60534335, 0.97001057,\n",
       "        0.84456286, 0.77011296, 0.41720235]])"
      ]
     },
     "execution_count": 30,
     "metadata": {},
     "output_type": "execute_result"
    }
   ],
   "source": [
    "uniform = uniform.reshape(3,8)\n",
    "uniform"
   ]
  },
  {
   "cell_type": "code",
   "execution_count": 76,
   "id": "ddb8386d",
   "metadata": {},
   "outputs": [
    {
     "data": {
      "text/plain": [
       "array([[ 6,  0,  0,  0,  0],\n",
       "       [ 0,  3,  0,  0,  0],\n",
       "       [ 0,  0,  8,  0,  0],\n",
       "       [ 0,  0,  0, 10,  0],\n",
       "       [ 0,  0,  0,  0, 11]])"
      ]
     },
     "execution_count": 76,
     "metadata": {},
     "output_type": "execute_result"
    }
   ],
   "source": [
    "dia = np.diag((6,3,8,10,11)) # it creates diagonal matrix for given elements\n",
    "dia"
   ]
  },
  {
   "cell_type": "code",
   "execution_count": 113,
   "id": "cc7123ae",
   "metadata": {},
   "outputs": [
    {
     "data": {
      "text/plain": [
       "array([[ 0,  0,  0,  0],\n",
       "       [ 0,  5,  0,  0],\n",
       "       [ 0,  0, 10,  0],\n",
       "       [ 0,  0,  0, 15]])"
      ]
     },
     "execution_count": 113,
     "metadata": {},
     "output_type": "execute_result"
    }
   ],
   "source": [
    "dai = np.diag(np.arange(0,20,5))\n",
    "dai"
   ]
  },
  {
   "cell_type": "code",
   "execution_count": 81,
   "id": "657a2450",
   "metadata": {},
   "outputs": [
    {
     "data": {
      "text/plain": [
       "array([1.        , 1.47058824, 1.94117647, 2.41176471, 2.88235294,\n",
       "       3.35294118, 3.82352941, 4.29411765, 4.76470588, 5.23529412,\n",
       "       5.70588235, 6.17647059, 6.64705882, 7.11764706, 7.58823529,\n",
       "       8.05882353, 8.52941176, 9.        ])"
      ]
     },
     "execution_count": 81,
     "metadata": {},
     "output_type": "execute_result"
    }
   ],
   "source": [
    "#linspace - evenly spaced values between specified start and end value, using a  specified number of elements\n",
    "d = np.linspace(1,9,18)\n",
    "d\n"
   ]
  },
  {
   "cell_type": "code",
   "execution_count": 84,
   "id": "06c261b5",
   "metadata": {},
   "outputs": [
    {
     "data": {
      "text/plain": [
       "array([5.4, 5.4, 5.4, 5.4, 5.4, 5.4, 5.4, 5.4, 5.4, 5.4])"
      ]
     },
     "execution_count": 84,
     "metadata": {},
     "output_type": "execute_result"
    }
   ],
   "source": [
    "# fill with specified values in the array\n",
    "x1 = np.full(10,5.4) \n",
    "x1"
   ]
  },
  {
   "cell_type": "code",
   "execution_count": 98,
   "id": "00204048",
   "metadata": {},
   "outputs": [
    {
     "name": "stdout",
     "output_type": "stream",
     "text": [
      "[7. 7. 7. 7. 7. 7. 7. 7. 7.]\n"
     ]
    }
   ],
   "source": [
    "x2 = np.empty(9)  # cretae an empty arrray and fill it\n",
    "x2.fill(7.0)\n",
    "print(x2)"
   ]
  },
  {
   "cell_type": "code",
   "execution_count": 28,
   "id": "471fda62",
   "metadata": {},
   "outputs": [
    {
     "data": {
      "text/plain": [
       "array([[0.80439673, 0.19498695, 0.46544866, 0.97706912, 0.98477057,\n",
       "        0.75454574],\n",
       "       [0.47119757, 0.96257102, 0.59772721, 0.76105633, 0.14826267,\n",
       "        0.99452265],\n",
       "       [0.27497219, 0.57125895, 0.70620506, 0.77739734, 0.4416819 ,\n",
       "        0.13442559],\n",
       "       [0.41497293, 0.60534335, 0.97001057, 0.84456286, 0.77011296,\n",
       "        0.41720235]])"
      ]
     },
     "execution_count": 28,
     "metadata": {},
     "output_type": "execute_result"
    }
   ],
   "source": [
    "#reshaping numpy arrays, when you reshape an array the elements of a reshaping array must be same as the one you for reshape.\n",
    "uniform = np.random.rand(4,6)\n",
    "uniform"
   ]
  },
  {
   "cell_type": "code",
   "execution_count": 36,
   "id": "79f475c4",
   "metadata": {},
   "outputs": [],
   "source": [
    "# Array index and slicing\n",
    "arr = np.arange(1,11)"
   ]
  },
  {
   "cell_type": "code",
   "execution_count": 38,
   "id": "bbfec1e5",
   "metadata": {},
   "outputs": [
    {
     "data": {
      "text/plain": [
       "2"
      ]
     },
     "execution_count": 38,
     "metadata": {},
     "output_type": "execute_result"
    }
   ],
   "source": [
    "arr[1]  # indexing same as python list "
   ]
  },
  {
   "cell_type": "code",
   "execution_count": 39,
   "id": "53082672",
   "metadata": {},
   "outputs": [
    {
     "data": {
      "text/plain": [
       "array([[1, 2, 3],\n",
       "       [4, 5, 6],\n",
       "       [7, 8, 9]])"
      ]
     },
     "execution_count": 39,
     "metadata": {},
     "output_type": "execute_result"
    }
   ],
   "source": [
    "row"
   ]
  },
  {
   "cell_type": "code",
   "execution_count": 40,
   "id": "31afa8fa",
   "metadata": {},
   "outputs": [
    {
     "name": "stdout",
     "output_type": "stream",
     "text": [
      "9\n"
     ]
    }
   ],
   "source": [
    "print(row[1,1]) # using to extract mid element "
   ]
  },
  {
   "cell_type": "code",
   "execution_count": 45,
   "id": "255f4a3d",
   "metadata": {},
   "outputs": [
    {
     "name": "stdout",
     "output_type": "stream",
     "text": [
      "[[1 2]\n",
      " [4 5]\n",
      " [7 8]]\n"
     ]
    }
   ],
   "source": [
    "print(row[:,:2])"
   ]
  },
  {
   "cell_type": "code",
   "execution_count": 46,
   "id": "4f512f7c",
   "metadata": {},
   "outputs": [
    {
     "name": "stdout",
     "output_type": "stream",
     "text": [
      "[[1 2 3]\n",
      " [4 5 6]]\n"
     ]
    }
   ],
   "source": [
    "print(row[:2,:])"
   ]
  },
  {
   "cell_type": "code",
   "execution_count": 48,
   "id": "ec002c99",
   "metadata": {},
   "outputs": [
    {
     "data": {
      "text/plain": [
       "array([1.41421356, 2.        , 2.23606798, 2.44948974, 3.        ])"
      ]
     },
     "execution_count": 48,
     "metadata": {},
     "output_type": "execute_result"
    }
   ],
   "source": [
    "# numpy for arithmatic operations\n",
    "nums =[2,4,5,6,9]\n",
    "np_sqr =np.sqrt(nums)\n",
    "np_sqr"
   ]
  },
  {
   "cell_type": "code",
   "execution_count": 49,
   "id": "e3b4031d",
   "metadata": {},
   "outputs": [
    {
     "data": {
      "text/plain": [
       "array([2.30258509, 4.60517019, 6.90775528])"
      ]
     },
     "execution_count": 49,
     "metadata": {},
     "output_type": "execute_result"
    }
   ],
   "source": [
    "# natural log function or logerithms of base e\n",
    "nums =[10,100,1000]\n",
    "log_num = np.log(nums)\n",
    "log_num"
   ]
  },
  {
   "cell_type": "code",
   "execution_count": 226,
   "id": "0b288fd4",
   "metadata": {},
   "outputs": [
    {
     "data": {
      "text/plain": [
       "array([1.        , 2.        , 2.32192809, 2.5849625 , 3.169925  ])"
      ]
     },
     "execution_count": 226,
     "metadata": {},
     "output_type": "execute_result"
    }
   ],
   "source": [
    "logs_nums = np.log2(nums) #logerithms of base 2\n",
    "logs_nums"
   ]
  },
  {
   "cell_type": "code",
   "execution_count": 227,
   "id": "a9f96094",
   "metadata": {},
   "outputs": [
    {
     "data": {
      "text/plain": [
       "array([0.30103   , 0.60205999, 0.69897   , 0.77815125, 0.95424251])"
      ]
     },
     "execution_count": 227,
     "metadata": {},
     "output_type": "execute_result"
    }
   ],
   "source": [
    "logs_nums = np.log10(nums) #logerithms of base 10\n",
    "logs_nums"
   ]
  },
  {
   "cell_type": "code",
   "execution_count": 99,
   "id": "e00816cc",
   "metadata": {},
   "outputs": [
    {
     "data": {
      "text/plain": [
       "array([  1.        ,   3.16227766,  10.        ,  31.6227766 ,\n",
       "       100.        ])"
      ]
     },
     "execution_count": 99,
     "metadata": {},
     "output_type": "execute_result"
    }
   ],
   "source": [
    "# logerthemic seq np.logspace()\n",
    "np.logspace(0,2,5) # logerthemic spaces between 10^0 to 10^2 (1 to 100) 5 elements"
   ]
  },
  {
   "cell_type": "code",
   "execution_count": 52,
   "id": "4f2ad0b7",
   "metadata": {},
   "outputs": [
    {
     "data": {
      "text/plain": [
       "array([7.38905610e+00, 5.45981500e+01, 1.48413159e+02, 4.03428793e+02,\n",
       "       8.10308393e+03])"
      ]
     },
     "execution_count": 52,
     "metadata": {},
     "output_type": "execute_result"
    }
   ],
   "source": [
    "# exponenet of a number\n",
    "nums =[2,4,5,6,9]\n",
    "expo = np.exp(nums)\n",
    "expo"
   ]
  },
  {
   "cell_type": "code",
   "execution_count": 104,
   "id": "c24d03a8",
   "metadata": {},
   "outputs": [
    {
     "name": "stdout",
     "output_type": "stream",
     "text": [
      "[[-1  0  1]\n",
      " [-1  0  1]\n",
      " [-1  0  1]]\n",
      "[[-2 -2 -2]\n",
      " [ 0  0  0]\n",
      " [ 2  2  2]]\n"
     ]
    }
   ],
   "source": [
    "# meshgrid. when you give x, y lists like x =[-1, 0, 1] and y -[-2,0,2] and there are 9 points we can plot on th grap\n",
    "# like (-1,-2), (-1,0),(-1,2) ... . So the meshgrid fuction retuns X array as 3X3 matrix and Y array s 3X3 matrix \n",
    "# using the x and y coordinates.\n",
    "x = np.array([-1,0,1])\n",
    "y = np.array([-2,0,2])\n",
    "X, Y = np.meshgrid(x,y)\n",
    "print(X)\n",
    "print(Y)"
   ]
  },
  {
   "cell_type": "code",
   "execution_count": 105,
   "id": "5d23de00",
   "metadata": {},
   "outputs": [
    {
     "data": {
      "text/plain": [
       "array([[9, 4, 1],\n",
       "       [1, 0, 1],\n",
       "       [1, 4, 9]])"
      ]
     },
     "execution_count": 105,
     "metadata": {},
     "output_type": "execute_result"
    }
   ],
   "source": [
    "# you can use the X and Y to do some more functions like below\n",
    "z = (X + Y)**2\n",
    "z"
   ]
  },
  {
   "cell_type": "code",
   "execution_count": 53,
   "id": "810546b7",
   "metadata": {},
   "outputs": [],
   "source": [
    "# can be used for sine, cosing functions usring np.sin(), np.cos()"
   ]
  },
  {
   "cell_type": "markdown",
   "id": "cb94be98",
   "metadata": {},
   "source": [
    "# Matrix and Vector operations"
   ]
  },
  {
   "cell_type": "code",
   "execution_count": 55,
   "id": "545a033e",
   "metadata": {},
   "outputs": [
    {
     "name": "stdout",
     "output_type": "stream",
     "text": [
      "[4 4 3 4] [2 3 3 4]\n"
     ]
    },
    {
     "data": {
      "text/plain": [
       "45"
      ]
     },
     "execution_count": 55,
     "metadata": {},
     "output_type": "execute_result"
    }
   ],
   "source": [
    "# dot product of matrices ( also matrix multiplication number of col of a first matrix must match number row of second matrix)\n",
    "A = np.random.randint(1,5,4)\n",
    "B = np.random.randint(1,5,4)\n",
    "print(A,B)\n",
    "Z = np.dot(A,B)\n",
    "Z"
   ]
  },
  {
   "cell_type": "code",
   "execution_count": 59,
   "id": "63fb502a",
   "metadata": {},
   "outputs": [
    {
     "name": "stdout",
     "output_type": "stream",
     "text": [
      "[4 6 8 8]\n",
      "[[4 4 3 4]\n",
      " [2 3 3 4]\n",
      " [4 6 8 8]]\n"
     ]
    },
    {
     "data": {
      "text/plain": [
       "array([[16, 16,  9, 16],\n",
       "       [ 4,  9,  9, 16],\n",
       "       [16, 36, 64, 64]])"
      ]
     },
     "execution_count": 59,
     "metadata": {},
     "output_type": "execute_result"
    }
   ],
   "source": [
    "# element wise matrix multiplication\n",
    "C = np.random.randint(1,10,4)\n",
    "print(C)\n",
    "Z = np.array([A,B,C])\n",
    "print(Z)\n",
    "mult = np.multiply(Z,Z)\n",
    "mult"
   ]
  },
  {
   "cell_type": "code",
   "execution_count": 60,
   "id": "4ad7b6d9",
   "metadata": {},
   "outputs": [],
   "source": [
    "# finding inverse of a matrix\n",
    "A = [1,2,3]\n",
    "B =[4,5,6]\n",
    "c = [7,8,9]\n",
    "d = np.array([A,B,c])"
   ]
  },
  {
   "cell_type": "code",
   "execution_count": 62,
   "id": "aec7fe10",
   "metadata": {},
   "outputs": [],
   "source": [
    "inve = np.linalg.inv(d) # inverse of an square matrix , it also independent matrix or non singular"
   ]
  },
  {
   "cell_type": "code",
   "execution_count": 63,
   "id": "d3aaf739",
   "metadata": {},
   "outputs": [
    {
     "data": {
      "text/plain": [
       "array([[ 3.15251974e+15, -6.30503948e+15,  3.15251974e+15],\n",
       "       [-6.30503948e+15,  1.26100790e+16, -6.30503948e+15],\n",
       "       [ 3.15251974e+15, -6.30503948e+15,  3.15251974e+15]])"
      ]
     },
     "execution_count": 63,
     "metadata": {},
     "output_type": "execute_result"
    }
   ],
   "source": [
    "inve"
   ]
  },
  {
   "cell_type": "code",
   "execution_count": 64,
   "id": "65e955b8",
   "metadata": {},
   "outputs": [],
   "source": [
    "c= [8,10,12]\n",
    "d =np.array([A,B,c])"
   ]
  },
  {
   "cell_type": "code",
   "execution_count": 65,
   "id": "0adec177",
   "metadata": {},
   "outputs": [
    {
     "ename": "LinAlgError",
     "evalue": "Singular matrix",
     "output_type": "error",
     "traceback": [
      "\u001b[0;31m---------------------------------------------------------------------------\u001b[0m",
      "\u001b[0;31mLinAlgError\u001b[0m                               Traceback (most recent call last)",
      "\u001b[0;32m<ipython-input-65-9f4ecef92449>\u001b[0m in \u001b[0;36m<module>\u001b[0;34m\u001b[0m\n\u001b[0;32m----> 1\u001b[0;31m \u001b[0minve\u001b[0m \u001b[0;34m=\u001b[0m \u001b[0mnp\u001b[0m\u001b[0;34m.\u001b[0m\u001b[0mlinalg\u001b[0m\u001b[0;34m.\u001b[0m\u001b[0minv\u001b[0m\u001b[0;34m(\u001b[0m\u001b[0md\u001b[0m\u001b[0;34m)\u001b[0m\u001b[0;34m\u001b[0m\u001b[0;34m\u001b[0m\u001b[0m\n\u001b[0m",
      "\u001b[0;32m<__array_function__ internals>\u001b[0m in \u001b[0;36minv\u001b[0;34m(*args, **kwargs)\u001b[0m\n",
      "\u001b[0;32m~/opt/anaconda3/lib/python3.8/site-packages/numpy/linalg/linalg.py\u001b[0m in \u001b[0;36minv\u001b[0;34m(a)\u001b[0m\n\u001b[1;32m    543\u001b[0m     \u001b[0msignature\u001b[0m \u001b[0;34m=\u001b[0m \u001b[0;34m'D->D'\u001b[0m \u001b[0;32mif\u001b[0m \u001b[0misComplexType\u001b[0m\u001b[0;34m(\u001b[0m\u001b[0mt\u001b[0m\u001b[0;34m)\u001b[0m \u001b[0;32melse\u001b[0m \u001b[0;34m'd->d'\u001b[0m\u001b[0;34m\u001b[0m\u001b[0;34m\u001b[0m\u001b[0m\n\u001b[1;32m    544\u001b[0m     \u001b[0mextobj\u001b[0m \u001b[0;34m=\u001b[0m \u001b[0mget_linalg_error_extobj\u001b[0m\u001b[0;34m(\u001b[0m\u001b[0m_raise_linalgerror_singular\u001b[0m\u001b[0;34m)\u001b[0m\u001b[0;34m\u001b[0m\u001b[0;34m\u001b[0m\u001b[0m\n\u001b[0;32m--> 545\u001b[0;31m     \u001b[0mainv\u001b[0m \u001b[0;34m=\u001b[0m \u001b[0m_umath_linalg\u001b[0m\u001b[0;34m.\u001b[0m\u001b[0minv\u001b[0m\u001b[0;34m(\u001b[0m\u001b[0ma\u001b[0m\u001b[0;34m,\u001b[0m \u001b[0msignature\u001b[0m\u001b[0;34m=\u001b[0m\u001b[0msignature\u001b[0m\u001b[0;34m,\u001b[0m \u001b[0mextobj\u001b[0m\u001b[0;34m=\u001b[0m\u001b[0mextobj\u001b[0m\u001b[0;34m)\u001b[0m\u001b[0;34m\u001b[0m\u001b[0;34m\u001b[0m\u001b[0m\n\u001b[0m\u001b[1;32m    546\u001b[0m     \u001b[0;32mreturn\u001b[0m \u001b[0mwrap\u001b[0m\u001b[0;34m(\u001b[0m\u001b[0mainv\u001b[0m\u001b[0;34m.\u001b[0m\u001b[0mastype\u001b[0m\u001b[0;34m(\u001b[0m\u001b[0mresult_t\u001b[0m\u001b[0;34m,\u001b[0m \u001b[0mcopy\u001b[0m\u001b[0;34m=\u001b[0m\u001b[0;32mFalse\u001b[0m\u001b[0;34m)\u001b[0m\u001b[0;34m)\u001b[0m\u001b[0;34m\u001b[0m\u001b[0;34m\u001b[0m\u001b[0m\n\u001b[1;32m    547\u001b[0m \u001b[0;34m\u001b[0m\u001b[0m\n",
      "\u001b[0;32m~/opt/anaconda3/lib/python3.8/site-packages/numpy/linalg/linalg.py\u001b[0m in \u001b[0;36m_raise_linalgerror_singular\u001b[0;34m(err, flag)\u001b[0m\n\u001b[1;32m     86\u001b[0m \u001b[0;34m\u001b[0m\u001b[0m\n\u001b[1;32m     87\u001b[0m \u001b[0;32mdef\u001b[0m \u001b[0m_raise_linalgerror_singular\u001b[0m\u001b[0;34m(\u001b[0m\u001b[0merr\u001b[0m\u001b[0;34m,\u001b[0m \u001b[0mflag\u001b[0m\u001b[0;34m)\u001b[0m\u001b[0;34m:\u001b[0m\u001b[0;34m\u001b[0m\u001b[0;34m\u001b[0m\u001b[0m\n\u001b[0;32m---> 88\u001b[0;31m     \u001b[0;32mraise\u001b[0m \u001b[0mLinAlgError\u001b[0m\u001b[0;34m(\u001b[0m\u001b[0;34m\"Singular matrix\"\u001b[0m\u001b[0;34m)\u001b[0m\u001b[0;34m\u001b[0m\u001b[0;34m\u001b[0m\u001b[0m\n\u001b[0m\u001b[1;32m     89\u001b[0m \u001b[0;34m\u001b[0m\u001b[0m\n\u001b[1;32m     90\u001b[0m \u001b[0;32mdef\u001b[0m \u001b[0m_raise_linalgerror_nonposdef\u001b[0m\u001b[0;34m(\u001b[0m\u001b[0merr\u001b[0m\u001b[0;34m,\u001b[0m \u001b[0mflag\u001b[0m\u001b[0;34m)\u001b[0m\u001b[0;34m:\u001b[0m\u001b[0;34m\u001b[0m\u001b[0;34m\u001b[0m\u001b[0m\n",
      "\u001b[0;31mLinAlgError\u001b[0m: Singular matrix"
     ]
    }
   ],
   "source": [
    "inve = np.linalg.inv(d)  # it is a singular or dependent matrix so the inverse is not possible"
   ]
  },
  {
   "cell_type": "code",
   "execution_count": 66,
   "id": "cbfb7767",
   "metadata": {},
   "outputs": [],
   "source": [
    "# determinant of a matrix\n",
    "deter = np.linalg.det(d) # returns 0 if the matrix is singular"
   ]
  },
  {
   "cell_type": "code",
   "execution_count": 67,
   "id": "a13755d3",
   "metadata": {},
   "outputs": [
    {
     "data": {
      "text/plain": [
       "0.0"
      ]
     },
     "execution_count": 67,
     "metadata": {},
     "output_type": "execute_result"
    }
   ],
   "source": [
    "deter"
   ]
  },
  {
   "cell_type": "code",
   "execution_count": 68,
   "id": "5295cb12",
   "metadata": {},
   "outputs": [],
   "source": [
    "c = [7,8,9]\n",
    "d = np.array([A,B,c])"
   ]
  },
  {
   "cell_type": "code",
   "execution_count": 69,
   "id": "71b6d43a",
   "metadata": {},
   "outputs": [
    {
     "data": {
      "text/plain": [
       "-9.51619735392994e-16"
      ]
     },
     "execution_count": 69,
     "metadata": {},
     "output_type": "execute_result"
    }
   ],
   "source": [
    "deter = np.linalg.det(d)\n",
    "deter"
   ]
  },
  {
   "cell_type": "code",
   "execution_count": 70,
   "id": "04ae2734",
   "metadata": {},
   "outputs": [
    {
     "data": {
      "text/plain": [
       "15"
      ]
     },
     "execution_count": 70,
     "metadata": {},
     "output_type": "execute_result"
    }
   ],
   "source": [
    "# Trace of a Matrix. Trace isa sum of all the values along the diagonal\n",
    "tr = np.trace(d)\n",
    "tr"
   ]
  },
  {
   "cell_type": "code",
   "execution_count": 211,
   "id": "ef90cf08",
   "metadata": {},
   "outputs": [
    {
     "name": "stdout",
     "output_type": "stream",
     "text": [
      "[[30. 40. 50.]\n",
      " [31. 41. 51.]\n",
      " [32. 42. 52.]]\n"
     ]
    },
    {
     "data": {
      "text/plain": [
       "array([[30., 31., 32.],\n",
       "       [40., 41., 42.],\n",
       "       [50., 51., 52.]])"
      ]
     },
     "execution_count": 211,
     "metadata": {},
     "output_type": "execute_result"
    }
   ],
   "source": [
    "# transpose of a matrix\n",
    "a = np.ndarray((3,3))\n",
    "print(a)\n",
    "b = np.transpose(a)\n",
    "b"
   ]
  },
  {
   "cell_type": "code",
   "execution_count": 311,
   "id": "c88ebc3d",
   "metadata": {},
   "outputs": [
    {
     "data": {
      "text/plain": [
       "array([[14, 32],\n",
       "       [32, 77]])"
      ]
     },
     "execution_count": 311,
     "metadata": {},
     "output_type": "execute_result"
    }
   ],
   "source": [
    "# np.inner()\n",
    "c = np.array([[1,2,3],[4,5,6]])\n",
    "np.inner(c,c)"
   ]
  },
  {
   "cell_type": "code",
   "execution_count": 312,
   "id": "c43dcae8",
   "metadata": {},
   "outputs": [
    {
     "data": {
      "text/plain": [
       "array([[ 1,  2,  3,  4,  5,  6],\n",
       "       [ 2,  4,  6,  8, 10, 12],\n",
       "       [ 3,  6,  9, 12, 15, 18],\n",
       "       [ 4,  8, 12, 16, 20, 24],\n",
       "       [ 5, 10, 15, 20, 25, 30],\n",
       "       [ 6, 12, 18, 24, 30, 36]])"
      ]
     },
     "execution_count": 312,
     "metadata": {},
     "output_type": "execute_result"
    }
   ],
   "source": [
    "np.outer(c,c)"
   ]
  },
  {
   "cell_type": "code",
   "execution_count": 314,
   "id": "566ef19f",
   "metadata": {},
   "outputs": [
    {
     "data": {
      "text/plain": [
       "array([1, 2, 3, 2, 4, 6, 3, 6, 9])"
      ]
     },
     "execution_count": 314,
     "metadata": {},
     "output_type": "execute_result"
    }
   ],
   "source": [
    "np.kron([1,2,3],[1,2,3])"
   ]
  },
  {
   "cell_type": "markdown",
   "id": "232e3454",
   "metadata": {},
   "source": [
    "# Multidimentional Arrays"
   ]
  },
  {
   "cell_type": "code",
   "execution_count": 212,
   "id": "dc211c5c",
   "metadata": {},
   "outputs": [
    {
     "data": {
      "text/plain": [
       "array([[30., 40., 50., 30., 31., 32.],\n",
       "       [31., 41., 51., 40., 41., 42.],\n",
       "       [32., 42., 52., 50., 51., 52.]])"
      ]
     },
     "execution_count": 212,
     "metadata": {},
     "output_type": "execute_result"
    }
   ],
   "source": [
    "# horizontal stack of arrays a,b\n",
    "np.hstack((a,b))\n"
   ]
  },
  {
   "cell_type": "code",
   "execution_count": 213,
   "id": "4e212c0d",
   "metadata": {},
   "outputs": [
    {
     "data": {
      "text/plain": [
       "array([[30., 40., 50.],\n",
       "       [31., 41., 51.],\n",
       "       [32., 42., 52.],\n",
       "       [30., 31., 32.],\n",
       "       [40., 41., 42.],\n",
       "       [50., 51., 52.]])"
      ]
     },
     "execution_count": 213,
     "metadata": {},
     "output_type": "execute_result"
    }
   ],
   "source": [
    "np.vstack((a,b)) # vertical stack of arrays a,b"
   ]
  },
  {
   "cell_type": "code",
   "execution_count": 214,
   "id": "806d019e",
   "metadata": {},
   "outputs": [
    {
     "data": {
      "text/plain": [
       "array([[ 60.,  71.,  82.],\n",
       "       [ 71.,  82.,  93.],\n",
       "       [ 82.,  93., 104.]])"
      ]
     },
     "execution_count": 214,
     "metadata": {},
     "output_type": "execute_result"
    }
   ],
   "source": [
    "# arithmatic  operations are element wise and the shape should be same for both arrays\n",
    "a+b"
   ]
  },
  {
   "cell_type": "code",
   "execution_count": 215,
   "id": "9a7498ee",
   "metadata": {},
   "outputs": [
    {
     "data": {
      "text/plain": [
       "array([[  0.,   9.,  18.],\n",
       "       [ -9.,   0.,   9.],\n",
       "       [-18.,  -9.,   0.]])"
      ]
     },
     "execution_count": 215,
     "metadata": {},
     "output_type": "execute_result"
    }
   ],
   "source": [
    "a-b"
   ]
  },
  {
   "cell_type": "code",
   "execution_count": 216,
   "id": "59c5cde7",
   "metadata": {},
   "outputs": [
    {
     "data": {
      "text/plain": [
       "array([[ 900., 1240., 1600.],\n",
       "       [1240., 1681., 2142.],\n",
       "       [1600., 2142., 2704.]])"
      ]
     },
     "execution_count": 216,
     "metadata": {},
     "output_type": "execute_result"
    }
   ],
   "source": [
    "a*b"
   ]
  },
  {
   "cell_type": "code",
   "execution_count": 217,
   "id": "73cf999e",
   "metadata": {},
   "outputs": [
    {
     "data": {
      "text/plain": [
       "array([[1.        , 1.29032258, 1.5625    ],\n",
       "       [0.775     , 1.        , 1.21428571],\n",
       "       [0.64      , 0.82352941, 1.        ]])"
      ]
     },
     "execution_count": 217,
     "metadata": {},
     "output_type": "execute_result"
    }
   ],
   "source": [
    "a/b"
   ]
  },
  {
   "cell_type": "code",
   "execution_count": 218,
   "id": "5c05e587",
   "metadata": {},
   "outputs": [
    {
     "data": {
      "text/plain": [
       "array([[ 60.,  80., 100.],\n",
       "       [ 62.,  82., 102.],\n",
       "       [ 64.,  84., 104.]])"
      ]
     },
     "execution_count": 218,
     "metadata": {},
     "output_type": "execute_result"
    }
   ],
   "source": [
    "a*2"
   ]
  },
  {
   "cell_type": "code",
   "execution_count": 223,
   "id": "c38af455",
   "metadata": {},
   "outputs": [
    {
     "data": {
      "text/plain": [
       "array([[30., 40., 50.],\n",
       "       [31., 41., 51.],\n",
       "       [32., 42., 52.],\n",
       "       [30., 31., 32.],\n",
       "       [40., 41., 42.],\n",
       "       [50., 51., 52.]])"
      ]
     },
     "execution_count": 223,
     "metadata": {},
     "output_type": "execute_result"
    }
   ],
   "source": [
    "# concatinate function\n",
    "z = np.concatenate([a,b]) \n",
    "z"
   ]
  },
  {
   "cell_type": "code",
   "execution_count": 224,
   "id": "38ec7b12",
   "metadata": {},
   "outputs": [
    {
     "data": {
      "text/plain": [
       "array([[30., 40., 50., 30., 31., 32.],\n",
       "       [31., 41., 51., 40., 41., 42.],\n",
       "       [32., 42., 52., 50., 51., 52.]])"
      ]
     },
     "execution_count": 224,
     "metadata": {},
     "output_type": "execute_result"
    }
   ],
   "source": [
    "z = np.concatenate([a,b],axis =1)  # defualt axis =0 which is y axis(vertical)\n",
    "z "
   ]
  },
  {
   "cell_type": "code",
   "execution_count": null,
   "id": "68d76343",
   "metadata": {},
   "outputs": [],
   "source": []
  },
  {
   "cell_type": "code",
   "execution_count": 145,
   "id": "df310b3c",
   "metadata": {},
   "outputs": [
    {
     "data": {
      "text/plain": [
       "array([[ 0.,  1.,  2.,  3.,  4.,  5.],\n",
       "       [10., 11., 12., 13., 14., 15.],\n",
       "       [20., 21., 22., 23., 24., 25.],\n",
       "       [30., 31., 32., 33., 34., 35.],\n",
       "       [40., 41., 42., 43., 44., 45.],\n",
       "       [50., 51., 52., 53., 54., 55.]])"
      ]
     },
     "execution_count": 145,
     "metadata": {},
     "output_type": "execute_result"
    }
   ],
   "source": [
    "# np.fromfunction(func,(3,3), dtype=int). fromfunction taks function as first argument and shape as second argument \n",
    "# shape for 3,3 is [[0,1,2],[0,1,2],[0,1,2]] and it runs the function with each element\n",
    "func = lambda m, n: n+10*m\n",
    "a = np.fromfunction(func,(6,6))\n",
    "a"
   ]
  },
  {
   "cell_type": "markdown",
   "id": "dca0eaa4",
   "metadata": {},
   "source": [
    "### nd indexing and slicing"
   ]
  },
  {
   "cell_type": "code",
   "execution_count": 146,
   "id": "6b9a8e48",
   "metadata": {},
   "outputs": [
    {
     "data": {
      "text/plain": [
       "array([10., 11., 12., 13., 14., 15.])"
      ]
     },
     "execution_count": 146,
     "metadata": {},
     "output_type": "execute_result"
    }
   ],
   "source": [
    "a[:, :] # slicing 2 dim array takes  maximum 2 arguments . first is for the row and second one is for column\n",
    "a[1]"
   ]
  },
  {
   "cell_type": "code",
   "execution_count": 147,
   "id": "5a591378",
   "metadata": {},
   "outputs": [
    {
     "data": {
      "text/plain": [
       "array([ 1., 11., 21., 31., 41., 51.])"
      ]
     },
     "execution_count": 147,
     "metadata": {},
     "output_type": "execute_result"
    }
   ],
   "source": [
    "a[:, 1] # the second column"
   ]
  },
  {
   "cell_type": "code",
   "execution_count": 148,
   "id": "0028ccc8",
   "metadata": {},
   "outputs": [
    {
     "data": {
      "text/plain": [
       "array([10., 11., 12., 13., 14., 15.])"
      ]
     },
     "execution_count": 148,
     "metadata": {},
     "output_type": "execute_result"
    }
   ],
   "source": [
    "a[1,:] # second row"
   ]
  },
  {
   "cell_type": "code",
   "execution_count": 149,
   "id": "c302afb3",
   "metadata": {},
   "outputs": [
    {
     "data": {
      "text/plain": [
       "array([[ 0.,  1.,  2.],\n",
       "       [10., 11., 12.],\n",
       "       [20., 21., 22.]])"
      ]
     },
     "execution_count": 149,
     "metadata": {},
     "output_type": "execute_result"
    }
   ],
   "source": [
    "a[:3,:3] # upper half disg block matrix"
   ]
  },
  {
   "cell_type": "code",
   "execution_count": 150,
   "id": "a46df96c",
   "metadata": {},
   "outputs": [
    {
     "data": {
      "text/plain": [
       "array([[33., 34., 35.],\n",
       "       [43., 44., 45.],\n",
       "       [53., 54., 55.]])"
      ]
     },
     "execution_count": 150,
     "metadata": {},
     "output_type": "execute_result"
    }
   ],
   "source": [
    "a[3:,3:] # lower right off-diagonal block matrix"
   ]
  },
  {
   "cell_type": "code",
   "execution_count": 151,
   "id": "badfe2dd",
   "metadata": {},
   "outputs": [
    {
     "data": {
      "text/plain": [
       "array([[ 3.,  4.,  5.],\n",
       "       [13., 14., 15.],\n",
       "       [23., 24., 25.]])"
      ]
     },
     "execution_count": 151,
     "metadata": {},
     "output_type": "execute_result"
    }
   ],
   "source": [
    "a[:3,3:] # upper right half"
   ]
  },
  {
   "cell_type": "code",
   "execution_count": 152,
   "id": "4e3bc6b0",
   "metadata": {},
   "outputs": [
    {
     "data": {
      "text/plain": [
       "array([[30., 31., 32.],\n",
       "       [40., 41., 42.],\n",
       "       [50., 51., 52.]])"
      ]
     },
     "execution_count": 152,
     "metadata": {},
     "output_type": "execute_result"
    }
   ],
   "source": [
    "a[3:,:3] # lower left"
   ]
  },
  {
   "cell_type": "code",
   "execution_count": 153,
   "id": "d4c8c8ec",
   "metadata": {},
   "outputs": [
    {
     "data": {
      "text/plain": [
       "array([[ 0.,  2.,  4.],\n",
       "       [20., 22., 24.],\n",
       "       [40., 42., 44.]])"
      ]
     },
     "execution_count": 153,
     "metadata": {},
     "output_type": "execute_result"
    }
   ],
   "source": [
    "a[::2,::2] # every second element starting from 0,0"
   ]
  },
  {
   "cell_type": "code",
   "execution_count": 154,
   "id": "105e8b0e",
   "metadata": {},
   "outputs": [
    {
     "data": {
      "text/plain": [
       "array([[11., 14.],\n",
       "       [31., 34.],\n",
       "       [51., 54.]])"
      ]
     },
     "execution_count": 154,
     "metadata": {},
     "output_type": "execute_result"
    }
   ],
   "source": [
    "a[1::2,1::3] # every second row and the thrid elemnet (column) slected"
   ]
  },
  {
   "cell_type": "code",
   "execution_count": 155,
   "id": "6ab49b1c",
   "metadata": {},
   "outputs": [
    {
     "data": {
      "text/plain": [
       "array([[11., 12., 13., 14.],\n",
       "       [21., 22., 23., 24.],\n",
       "       [31., 32., 33., 34.],\n",
       "       [41., 42., 43., 44.]])"
      ]
     },
     "execution_count": 155,
     "metadata": {},
     "output_type": "execute_result"
    }
   ],
   "source": [
    "# Views \n",
    "b = a[1:5,1:5]\n",
    "c = a[1:5,1:5].copy()\n",
    "b"
   ]
  },
  {
   "cell_type": "code",
   "execution_count": 157,
   "id": "ea80b089",
   "metadata": {},
   "outputs": [
    {
     "data": {
      "text/plain": [
       "array([[0., 0., 0., 0.],\n",
       "       [0., 0., 0., 0.],\n",
       "       [0., 0., 0., 0.],\n",
       "       [0., 0., 0., 0.]])"
      ]
     },
     "execution_count": 157,
     "metadata": {},
     "output_type": "execute_result"
    }
   ],
   "source": [
    "# array slicing operations are alternative views of the same underlying arraydata. if you change the view then the \n",
    "# original array will also be updated\n",
    "b[:,:] = 0\n",
    "b"
   ]
  },
  {
   "cell_type": "code",
   "execution_count": 158,
   "id": "4ad981e7",
   "metadata": {},
   "outputs": [
    {
     "data": {
      "text/plain": [
       "array([[ 0.,  1.,  2.,  3.,  4.,  5.],\n",
       "       [10.,  0.,  0.,  0.,  0., 15.],\n",
       "       [20.,  0.,  0.,  0.,  0., 25.],\n",
       "       [30.,  0.,  0.,  0.,  0., 35.],\n",
       "       [40.,  0.,  0.,  0.,  0., 45.],\n",
       "       [50., 51., 52., 53., 54., 55.]])"
      ]
     },
     "execution_count": 158,
     "metadata": {},
     "output_type": "execute_result"
    }
   ],
   "source": [
    "a"
   ]
  },
  {
   "cell_type": "code",
   "execution_count": 159,
   "id": "8f9ff141",
   "metadata": {},
   "outputs": [
    {
     "data": {
      "text/plain": [
       "array([[11., 12., 13., 14.],\n",
       "       [21., 22., 23., 24.],\n",
       "       [31., 32., 33., 34.],\n",
       "       [41., 42., 43., 44.]])"
      ]
     },
     "execution_count": 159,
     "metadata": {},
     "output_type": "execute_result"
    }
   ],
   "source": [
    "# you an use copy function to extract the elements permanantly without affecting initial array\n",
    "c"
   ]
  },
  {
   "cell_type": "code",
   "execution_count": 160,
   "id": "d0439517",
   "metadata": {},
   "outputs": [
    {
     "data": {
      "text/plain": [
       "array([[ 0.,  1.,  2.,  3.,  4.,  5.],\n",
       "       [10., 11., 12., 13., 14., 15.],\n",
       "       [20., 21., 22., 23., 24., 25.],\n",
       "       [30., 31., 32., 33., 34., 35.],\n",
       "       [40., 41., 42., 43., 44., 45.],\n",
       "       [50., 51., 52., 53., 54., 55.]])"
      ]
     },
     "execution_count": 160,
     "metadata": {},
     "output_type": "execute_result"
    }
   ],
   "source": [
    "a[1:5,1:5] = c[:,:]\n",
    "a"
   ]
  },
  {
   "cell_type": "code",
   "execution_count": 161,
   "id": "d927594d",
   "metadata": {},
   "outputs": [
    {
     "data": {
      "text/plain": [
       "array([[False, False, False, False, False, False],\n",
       "       [ True,  True,  True,  True,  True,  True],\n",
       "       [ True,  True,  True,  True,  True,  True],\n",
       "       [ True,  True,  True,  True,  True,  True],\n",
       "       [ True,  True,  True,  True,  True,  True],\n",
       "       [ True,  True,  True,  True,  True,  True]])"
      ]
     },
     "execution_count": 161,
     "metadata": {},
     "output_type": "execute_result"
    }
   ],
   "source": [
    "#checking values in the array \n",
    "a> 5 # return true if the element is greater than 5 else false and returns as an array"
   ]
  },
  {
   "cell_type": "code",
   "execution_count": 162,
   "id": "884ce04d",
   "metadata": {},
   "outputs": [
    {
     "data": {
      "text/plain": [
       "array([10., 11., 12., 13., 14., 15., 20., 21., 22., 23., 24., 25., 30.,\n",
       "       31., 32., 33., 34., 35., 40., 41., 42., 43., 44., 45., 50., 51.,\n",
       "       52., 53., 54., 55.])"
      ]
     },
     "execution_count": 162,
     "metadata": {},
     "output_type": "execute_result"
    }
   ],
   "source": [
    "a[a>5] # returns all the values that are greater than 5"
   ]
  },
  {
   "cell_type": "code",
   "execution_count": 163,
   "id": "29236db9",
   "metadata": {},
   "outputs": [
    {
     "data": {
      "text/plain": [
       "array([ 0.,  1.,  2.,  3.,  4.,  5., 10., 11., 12., 13., 14., 15., 20.,\n",
       "       21., 22., 23., 24., 25., 30., 31., 32., 33., 34., 35., 40., 41.,\n",
       "       42., 43., 44., 45., 50., 51., 52., 53., 54., 55.])"
      ]
     },
     "execution_count": 163,
     "metadata": {},
     "output_type": "execute_result"
    }
   ],
   "source": [
    "#np.ndarray.flatten(). Creates a copy of an N-dimentional array, and reinterprets it as a one -dim array\n",
    "b = np.ndarray.flatten(a)\n",
    "b\n",
    "# altering b doesn't affect a"
   ]
  },
  {
   "cell_type": "code",
   "execution_count": 172,
   "id": "9b60b192",
   "metadata": {},
   "outputs": [
    {
     "name": "stdout",
     "output_type": "stream",
     "text": [
      "[  0. 100.   2.   3.   4.   5.  10.  11.  12.  13.  14.  15.  20.  21.\n",
      "  22.  23.  24.  25.  30.  31.  32.  33.  34.  35.  40.  41.  42.  43.\n",
      "  44.  45.  50.  51.  52.  53.  54.  55.]\n"
     ]
    },
    {
     "data": {
      "text/plain": [
       "array([[  0., 100.,   2.,   3.,   4.,   5.],\n",
       "       [ 10.,  11.,  12.,  13.,  14.,  15.],\n",
       "       [ 20.,  21.,  22.,  23.,  24.,  25.],\n",
       "       [ 30.,  31.,  32.,  33.,  34.,  35.],\n",
       "       [ 40.,  41.,  42.,  43.,  44.,  45.],\n",
       "       [ 50.,  51.,  52.,  53.,  54.,  55.]])"
      ]
     },
     "execution_count": 172,
     "metadata": {},
     "output_type": "execute_result"
    }
   ],
   "source": [
    "c = a.ravel() # does same thing as flatten function but alters a \n",
    "c[1] =100\n",
    "print(c)\n",
    "a"
   ]
  },
  {
   "cell_type": "code",
   "execution_count": 177,
   "id": "1b8b4ae9",
   "metadata": {},
   "outputs": [
    {
     "data": {
      "text/plain": [
       "array([[  0., 100.,   2.,   3.,   4.,   5.],\n",
       "       [ 10.,  11.,  12.,  13.,  14.,  15.],\n",
       "       [ 20.,  21.,  22.,  23.,  24.,  25.],\n",
       "       [ 30.,  31.,  32.,  33.,  34.,  35.],\n",
       "       [ 40.,  41.,  42.,  43.,  44.,  45.],\n",
       "       [ 50.,  51.,  52.,  53.,  54.,  55.]])"
      ]
     },
     "execution_count": 177,
     "metadata": {},
     "output_type": "execute_result"
    }
   ],
   "source": [
    "c = np.ndarray.ravel(a) # this will alter a \n",
    "c[1 ]=100\n",
    "a"
   ]
  },
  {
   "cell_type": "code",
   "execution_count": 185,
   "id": "05c417b5",
   "metadata": {},
   "outputs": [
    {
     "name": "stdout",
     "output_type": "stream",
     "text": [
      "(1, 3, 3)\n",
      "(3, 3)\n"
     ]
    },
    {
     "data": {
      "text/plain": [
       "array([[1, 2, 2],\n",
       "       [1, 2, 3],\n",
       "       [1, 2, 3]])"
      ]
     },
     "execution_count": 185,
     "metadata": {},
     "output_type": "execute_result"
    }
   ],
   "source": [
    "#np.squeeze. removes axes with length 1\n",
    "b = np.array([[[1,2,2],[1,2,3],[1,2,3]]])\n",
    "c = np.squeeze(b)\n",
    "print(b.shape)\n",
    "print(c.shape)\n",
    "c"
   ]
  },
  {
   "cell_type": "markdown",
   "id": "aa52840d",
   "metadata": {},
   "source": [
    "# Aggregate Functions"
   ]
  },
  {
   "cell_type": "code",
   "execution_count": 229,
   "id": "b58cc33c",
   "metadata": {},
   "outputs": [
    {
     "data": {
      "text/plain": [
       "array([102, 135, 108, 196, 101, 158, 199, 180, 116, 193])"
      ]
     },
     "execution_count": 229,
     "metadata": {},
     "output_type": "execute_result"
    }
   ],
   "source": [
    "arr = np.random.randint(100, 200, 10)\n",
    "arr"
   ]
  },
  {
   "cell_type": "code",
   "execution_count": 231,
   "id": "05b182bf",
   "metadata": {},
   "outputs": [
    {
     "data": {
      "text/plain": [
       "148.8"
      ]
     },
     "execution_count": 231,
     "metadata": {},
     "output_type": "execute_result"
    }
   ],
   "source": [
    "arr.mean() # the average of all values in the array"
   ]
  },
  {
   "cell_type": "code",
   "execution_count": 232,
   "id": "18de49a2",
   "metadata": {},
   "outputs": [
    {
     "data": {
      "text/plain": [
       "38.94303532083754"
      ]
     },
     "execution_count": 232,
     "metadata": {},
     "output_type": "execute_result"
    }
   ],
   "source": [
    "arr.std() # the standard deviation "
   ]
  },
  {
   "cell_type": "code",
   "execution_count": 234,
   "id": "eccda087",
   "metadata": {},
   "outputs": [
    {
     "data": {
      "text/plain": [
       "1516.56"
      ]
     },
     "execution_count": 234,
     "metadata": {},
     "output_type": "execute_result"
    }
   ],
   "source": [
    "arr.var() #variance"
   ]
  },
  {
   "cell_type": "code",
   "execution_count": 236,
   "id": "f87ea056",
   "metadata": {},
   "outputs": [
    {
     "data": {
      "text/plain": [
       "1488"
      ]
     },
     "execution_count": 236,
     "metadata": {},
     "output_type": "execute_result"
    }
   ],
   "source": [
    "arr.sum() # sum of all values in the arr"
   ]
  },
  {
   "cell_type": "code",
   "execution_count": 237,
   "id": "74568810",
   "metadata": {},
   "outputs": [
    {
     "data": {
      "text/plain": [
       "3966198900613434368"
      ]
     },
     "execution_count": 237,
     "metadata": {},
     "output_type": "execute_result"
    }
   ],
   "source": [
    "arr.prod() #prodcut of all elements"
   ]
  },
  {
   "cell_type": "code",
   "execution_count": 238,
   "id": "50ade281",
   "metadata": {},
   "outputs": [
    {
     "data": {
      "text/plain": [
       "array([ 102,  237,  345,  541,  642,  800,  999, 1179, 1295, 1488])"
      ]
     },
     "execution_count": 238,
     "metadata": {},
     "output_type": "execute_result"
    }
   ],
   "source": [
    "arr.cumsum() # cumulative sum of all element"
   ]
  },
  {
   "cell_type": "code",
   "execution_count": 239,
   "id": "e503ca90",
   "metadata": {},
   "outputs": [
    {
     "data": {
      "text/plain": [
       "array([                102,               13770,             1487160,\n",
       "                 291483360,         29439819360,       4651491458880,\n",
       "           925646800317120,  166616424057081600,  880761116911913984,\n",
       "       3966198900613434368])"
      ]
     },
     "execution_count": 239,
     "metadata": {},
     "output_type": "execute_result"
    }
   ],
   "source": [
    "arr.cumprod() # cumulative product of all element"
   ]
  },
  {
   "cell_type": "code",
   "execution_count": 240,
   "id": "28b31ea6",
   "metadata": {},
   "outputs": [
    {
     "data": {
      "text/plain": [
       "101"
      ]
     },
     "execution_count": 240,
     "metadata": {},
     "output_type": "execute_result"
    }
   ],
   "source": [
    "arr.min() # min value"
   ]
  },
  {
   "cell_type": "code",
   "execution_count": 241,
   "id": "0fbc9540",
   "metadata": {},
   "outputs": [
    {
     "data": {
      "text/plain": [
       "199"
      ]
     },
     "execution_count": 241,
     "metadata": {},
     "output_type": "execute_result"
    }
   ],
   "source": [
    "arr.max() # max value"
   ]
  },
  {
   "cell_type": "code",
   "execution_count": 242,
   "id": "e308d157",
   "metadata": {},
   "outputs": [
    {
     "data": {
      "text/plain": [
       "True"
      ]
     },
     "execution_count": 242,
     "metadata": {},
     "output_type": "execute_result"
    }
   ],
   "source": [
    "arr.all() # returns true if all elements are not equal to zero"
   ]
  },
  {
   "cell_type": "code",
   "execution_count": 245,
   "id": "ea086a21",
   "metadata": {},
   "outputs": [
    {
     "data": {
      "text/plain": [
       "False"
      ]
     },
     "execution_count": 245,
     "metadata": {},
     "output_type": "execute_result"
    }
   ],
   "source": [
    "arr[0] = 0\n",
    "arr.all()"
   ]
  },
  {
   "cell_type": "code",
   "execution_count": 247,
   "id": "6097ee0b",
   "metadata": {},
   "outputs": [
    {
     "data": {
      "text/plain": [
       "True"
      ]
     },
     "execution_count": 247,
     "metadata": {},
     "output_type": "execute_result"
    }
   ],
   "source": [
    "arr.any(0)"
   ]
  },
  {
   "cell_type": "code",
   "execution_count": 252,
   "id": "42fe6748",
   "metadata": {},
   "outputs": [
    {
     "data": {
      "text/plain": [
       "array([False,  True,  True])"
      ]
     },
     "execution_count": 252,
     "metadata": {},
     "output_type": "execute_result"
    }
   ],
   "source": [
    "# logical AND operation using np\n",
    "a = np.array([1,2,3])\n",
    "b = np.array([0,1,1])\n",
    "np.logical_and(a,b)"
   ]
  },
  {
   "cell_type": "code",
   "execution_count": 253,
   "id": "2dbaf0b0",
   "metadata": {},
   "outputs": [
    {
     "data": {
      "text/plain": [
       "array([ True,  True,  True])"
      ]
     },
     "execution_count": 253,
     "metadata": {},
     "output_type": "execute_result"
    }
   ],
   "source": [
    "np.logical_or(a,b) # logocal OR"
   ]
  },
  {
   "cell_type": "code",
   "execution_count": 254,
   "id": "2070cf5c",
   "metadata": {},
   "outputs": [
    {
     "data": {
      "text/plain": [
       "array([False, False, False])"
      ]
     },
     "execution_count": 254,
     "metadata": {},
     "output_type": "execute_result"
    }
   ],
   "source": [
    "np.logical_not(a) # logical not"
   ]
  },
  {
   "cell_type": "code",
   "execution_count": 255,
   "id": "2f255c6d",
   "metadata": {},
   "outputs": [
    {
     "data": {
      "text/plain": [
       "array([ True, False, False])"
      ]
     },
     "execution_count": 255,
     "metadata": {},
     "output_type": "execute_result"
    }
   ],
   "source": [
    "np.logical_xor(a,b) # logiccal xor"
   ]
  },
  {
   "cell_type": "code",
   "execution_count": 261,
   "id": "5a4f73c9",
   "metadata": {},
   "outputs": [
    {
     "data": {
      "text/plain": [
       "array([-4., -3., -2., -1.,  0.,  1.,  2.,  3.,  4.])"
      ]
     },
     "execution_count": 261,
     "metadata": {},
     "output_type": "execute_result"
    }
   ],
   "source": [
    "c = np.linspace(-4,4,9)\n",
    "c"
   ]
  },
  {
   "cell_type": "code",
   "execution_count": 266,
   "id": "0f3079c8",
   "metadata": {},
   "outputs": [
    {
     "data": {
      "text/plain": [
       "array([-64., -27.,  -8.,  -1.,   0.,   1.,   4.,   9.,  16.])"
      ]
     },
     "execution_count": 266,
     "metadata": {},
     "output_type": "execute_result"
    }
   ],
   "source": [
    "np.where(c>0, c**2, c**3) # where function , condition c> 0 : When True, yield x(c**2), otherwise yield y(c**3)."
   ]
  },
  {
   "cell_type": "code",
   "execution_count": 268,
   "id": "565e2488",
   "metadata": {},
   "outputs": [
    {
     "data": {
      "text/plain": [
       "array([ 16.,   9.,   4.,  -1.,   0.,   1.,  16.,  81., 256.])"
      ]
     },
     "execution_count": 268,
     "metadata": {},
     "output_type": "execute_result"
    }
   ],
   "source": [
    "# np.select funtion works similarly as where()\n",
    "np.select([c<-1,c<2,c>=2],[c**2,c**3,c**4])"
   ]
  },
  {
   "cell_type": "code",
   "execution_count": 271,
   "id": "ff9486bd",
   "metadata": {},
   "outputs": [
    {
     "data": {
      "text/plain": [
       "array([ 16.,   9.,   4.,  -1.,   0.,   1.,  16.,  81., 256.])"
      ]
     },
     "execution_count": 271,
     "metadata": {},
     "output_type": "execute_result"
    }
   ],
   "source": [
    "np.choose([0,0,0,1,1,1,2,2,2], [c**2,c**3,c**4])"
   ]
  },
  {
   "cell_type": "markdown",
   "id": "70d74d3c",
   "metadata": {},
   "source": [
    "# set Operations"
   ]
  },
  {
   "cell_type": "code",
   "execution_count": 273,
   "id": "500f4305",
   "metadata": {},
   "outputs": [
    {
     "data": {
      "text/plain": [
       "array([1, 2, 3, 7])"
      ]
     },
     "execution_count": 273,
     "metadata": {},
     "output_type": "execute_result"
    }
   ],
   "source": [
    "a = np.unique([1,2,3,3,7])\n",
    "a # returns unique value of an array"
   ]
  },
  {
   "cell_type": "code",
   "execution_count": 274,
   "id": "3ffcb237",
   "metadata": {},
   "outputs": [
    {
     "data": {
      "text/plain": [
       "array([False,  True,  True, False])"
      ]
     },
     "execution_count": 274,
     "metadata": {},
     "output_type": "execute_result"
    }
   ],
   "source": [
    "b =np.unique([2,3,4,4,5,6,5])\n",
    "np.in1d(a,b) # checks existance of elements in another array, argument order matters"
   ]
  },
  {
   "cell_type": "code",
   "execution_count": 275,
   "id": "466d05ad",
   "metadata": {},
   "outputs": [
    {
     "data": {
      "text/plain": [
       "array([ True,  True, False, False, False])"
      ]
     },
     "execution_count": 275,
     "metadata": {},
     "output_type": "execute_result"
    }
   ],
   "source": [
    "np.in1d(b,a)"
   ]
  },
  {
   "cell_type": "code",
   "execution_count": 280,
   "id": "98a680e4",
   "metadata": {},
   "outputs": [
    {
     "data": {
      "text/plain": [
       "array([2, 3])"
      ]
     },
     "execution_count": 280,
     "metadata": {},
     "output_type": "execute_result"
    }
   ],
   "source": [
    "np.intersect1d(a,b) # intersection of arrays"
   ]
  },
  {
   "cell_type": "code",
   "execution_count": 281,
   "id": "642b0ee2",
   "metadata": {},
   "outputs": [
    {
     "data": {
      "text/plain": [
       "array([1, 7])"
      ]
     },
     "execution_count": 281,
     "metadata": {},
     "output_type": "execute_result"
    }
   ],
   "source": [
    "np.setdiff1d(a,b)# elements contained in a but not in b"
   ]
  },
  {
   "cell_type": "code",
   "execution_count": 283,
   "id": "be3c0c27",
   "metadata": {},
   "outputs": [
    {
     "data": {
      "text/plain": [
       "array([1, 2, 3, 4, 5, 6, 7])"
      ]
     },
     "execution_count": 283,
     "metadata": {},
     "output_type": "execute_result"
    }
   ],
   "source": [
    "np.union1d(a,b) # union of a and b"
   ]
  },
  {
   "cell_type": "code",
   "execution_count": 286,
   "id": "0482d444",
   "metadata": {},
   "outputs": [
    {
     "data": {
      "text/plain": [
       "array([193, 116, 180, 199, 158, 101, 196, 108, 135,   0])"
      ]
     },
     "execution_count": 286,
     "metadata": {},
     "output_type": "execute_result"
    }
   ],
   "source": [
    "np.flipud(arr) # flips upside down (reversed)"
   ]
  },
  {
   "cell_type": "code",
   "execution_count": 292,
   "id": "08c097e3",
   "metadata": {},
   "outputs": [
    {
     "data": {
      "text/plain": [
       "array([[3, 2, 1],\n",
       "       [6, 5, 4],\n",
       "       [9, 8, 7]])"
      ]
     },
     "execution_count": 292,
     "metadata": {},
     "output_type": "execute_result"
    }
   ],
   "source": [
    "arr =np.array([[1,2,3],[4,5,6],[7,8,9]]) # flips left to right\n",
    "np.fliplr(arr)"
   ]
  },
  {
   "cell_type": "code",
   "execution_count": 293,
   "id": "5044f82d",
   "metadata": {},
   "outputs": [
    {
     "data": {
      "text/plain": [
       "array([[3, 6, 9],\n",
       "       [2, 5, 8],\n",
       "       [1, 4, 7]])"
      ]
     },
     "execution_count": 293,
     "metadata": {},
     "output_type": "execute_result"
    }
   ],
   "source": [
    "np.rot90(arr) # rotates 90 degree angle"
   ]
  },
  {
   "cell_type": "code",
   "execution_count": 304,
   "id": "bf5a3d7e",
   "metadata": {},
   "outputs": [
    {
     "name": "stdout",
     "output_type": "stream",
     "text": [
      "[[3 2 1]\n",
      " [6 5 4]\n",
      " [9 8 7]]\n"
     ]
    },
    {
     "data": {
      "text/plain": [
       "array([[1, 2, 3],\n",
       "       [4, 5, 6],\n",
       "       [7, 8, 9]])"
      ]
     },
     "execution_count": 304,
     "metadata": {},
     "output_type": "execute_result"
    }
   ],
   "source": [
    "arr = np.fliplr(arr)\n",
    "print(arr)\n",
    "np.sort(arr) # sorts the array by row wise as axis =1 by defualt\n"
   ]
  },
  {
   "cell_type": "code",
   "execution_count": 305,
   "id": "17e43390",
   "metadata": {},
   "outputs": [
    {
     "name": "stdout",
     "output_type": "stream",
     "text": [
      "[[ 1  2  3]\n",
      " [ 4 10  6]\n",
      " [ 7  8  9]]\n"
     ]
    },
    {
     "data": {
      "text/plain": [
       "array([[ 1,  2,  3],\n",
       "       [ 4,  8,  6],\n",
       "       [ 7, 10,  9]])"
      ]
     },
     "execution_count": 305,
     "metadata": {},
     "output_type": "execute_result"
    }
   ],
   "source": [
    "arr = np.fliplr(arr)\n",
    "arr[1,1] =10\n",
    "print(arr)\n",
    "\n",
    "np.sort(arr, axis=0) # sorts by column"
   ]
  },
  {
   "cell_type": "code",
   "execution_count": null,
   "id": "5315bb86",
   "metadata": {},
   "outputs": [],
   "source": []
  }
 ],
 "metadata": {
  "kernelspec": {
   "display_name": "Python 3",
   "language": "python",
   "name": "python3"
  },
  "language_info": {
   "codemirror_mode": {
    "name": "ipython",
    "version": 3
   },
   "file_extension": ".py",
   "mimetype": "text/x-python",
   "name": "python",
   "nbconvert_exporter": "python",
   "pygments_lexer": "ipython3",
   "version": "3.8.8"
  }
 },
 "nbformat": 4,
 "nbformat_minor": 5
}
